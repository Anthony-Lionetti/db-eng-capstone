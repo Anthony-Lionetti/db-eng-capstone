{
 "cells": [
  {
   "cell_type": "code",
   "execution_count": 1,
   "metadata": {},
   "outputs": [],
   "source": [
    "import mysql.connector\n",
    "# I know this is bad practice, but I did not want to explicitly import every funcion I am using\n",
    "# Maybe refactoring would be in order for a real world project, but I think it will suffice in this case\n",
    "from data.execution import *"
   ]
  },
  {
   "cell_type": "markdown",
   "metadata": {},
   "source": [
    "##### The below will ask for two inputs Database User and Password for local host respectively\n"
   ]
  },
  {
   "cell_type": "code",
   "execution_count": 2,
   "metadata": {},
   "outputs": [],
   "source": [
    "cnx, cursor, prep_cursor = init_database()"
   ]
  },
  {
   "cell_type": "code",
   "execution_count": 3,
   "metadata": {},
   "outputs": [
    {
     "name": "stdout",
     "output_type": "stream",
     "text": [
      "Now using little_lemon_capstone\n",
      "Check if Data is Already Added\n"
     ]
    }
   ],
   "source": [
    "insert_data(cnx, cursor)"
   ]
  },
  {
   "cell_type": "markdown",
   "metadata": {},
   "source": [
    "##### Adding Sales Reports\n"
   ]
  },
  {
   "cell_type": "markdown",
   "metadata": {},
   "source": [
    "**Creating and Calling the Virtual Tables**\n"
   ]
  },
  {
   "cell_type": "code",
   "execution_count": 4,
   "metadata": {},
   "outputs": [],
   "source": [
    "order_views, over90orders, popular_items = run_views(cursor)"
   ]
  },
  {
   "cell_type": "code",
   "execution_count": 5,
   "metadata": {},
   "outputs": [
    {
     "name": "stdout",
     "output_type": "stream",
     "text": [
      "Order Views Response\n",
      "orderId: 1 | Order Quantity: 12 | Order Total: $86.41\n",
      "orderId: 2 | Order Quantity: 11 | Order Total: $94.42\n",
      "orderId: 3 | Order Quantity: 8 | Order Total: $68.45\n",
      "orderId: 4 | Order Quantity: 7 | Order Total: $96.93\n",
      "orderId: 5 | Order Quantity: 7 | Order Total: $34.95\n",
      "orderId: 6 | Order Quantity: 5 | Order Total: $37.46\n",
      "orderId: 7 | Order Quantity: 7 | Order Total: $39.46\n",
      "orderId: 8 | Order Quantity: 14 | Order Total: $120.94\n"
     ]
    }
   ],
   "source": [
    "print(\"Order Views Response\")\n",
    "for data in order_views:\n",
    "    print(\n",
    "        f\"orderId: {data[0]} | Order Quantity: {data[1]} | Order Total: ${data[2]}\")"
   ]
  },
  {
   "cell_type": "code",
   "execution_count": 6,
   "metadata": {},
   "outputs": [
    {
     "name": "stdout",
     "output_type": "stream",
     "text": [
      "Orders Over 90 Dollars\n",
      "Customer: Jane Smith | Order Total: $94.42 | Order Type: Booking\n",
      "Customer: Lisa White | Order Total: $96.93 | Order Type: Delivery\n",
      "Customer: Lisa White | Order Total: $120.94 | Order Type: Walk-in\n"
     ]
    }
   ],
   "source": [
    "print(\"Orders Over 90 Dollars\")\n",
    "for data in over90orders:\n",
    "    print(\n",
    "        f\"Customer: {data[1]} | Order Total: ${data[4]} | Order Type: {data[3]}\")"
   ]
  },
  {
   "cell_type": "code",
   "execution_count": 7,
   "metadata": {},
   "outputs": [
    {
     "name": "stdout",
     "output_type": "stream",
     "text": [
      "Popular Menu Items\n",
      "Item: Bruschetta\n",
      "Item: Caprese Salad\n",
      "Item: Baklava\n",
      "Item: Galaktoboureko\n"
     ]
    }
   ],
   "source": [
    "print(\"Popular Menu Items\")\n",
    "for data in popular_items:\n",
    "    print(f'Item: {data[0]}')"
   ]
  },
  {
   "cell_type": "markdown",
   "metadata": {},
   "source": [
    "**Creating and Calling Procedures**\n"
   ]
  },
  {
   "cell_type": "code",
   "execution_count": 8,
   "metadata": {},
   "outputs": [],
   "source": [
    "run_proceedures(cursor)"
   ]
  },
  {
   "cell_type": "code",
   "execution_count": 9,
   "metadata": {},
   "outputs": [
    {
     "name": "stdout",
     "output_type": "stream",
     "text": [
      "The Maximum Order Size is 14\n"
     ]
    }
   ],
   "source": [
    "query = call_procedure(cursor, 'GetMaxQuantity')\n",
    "print(f\"The Maximum Order Size is {query[0][0][0]}\")"
   ]
  },
  {
   "cell_type": "code",
   "execution_count": 10,
   "metadata": {},
   "outputs": [
    {
     "data": {
      "text/plain": [
       "[[('Order 9 is cancelled',)]]"
      ]
     },
     "execution_count": 10,
     "metadata": {},
     "output_type": "execute_result"
    }
   ],
   "source": [
    "query = call_procedure(cursor, 'CancelOrder', (9, 'message'))\n",
    "query"
   ]
  },
  {
   "cell_type": "code",
   "execution_count": 11,
   "metadata": {},
   "outputs": [
    {
     "name": "stdout",
     "output_type": "stream",
     "text": [
      "Customer #: 4 | Quantity: 4 | Total: 57.96\n",
      "Customer #: 4 | Quantity: 8 | Total: 64.97\n"
     ]
    }
   ],
   "source": [
    "response = run_prepared_statement(prep_cursor, (4, ))\n",
    "for order in response:\n",
    "    print(f\"Customer #: {order[0]} | Quantity: {order[1]} | Total: {order[3]}\")"
   ]
  },
  {
   "cell_type": "markdown",
   "metadata": {},
   "source": [
    "##### Table Booking System\n"
   ]
  },
  {
   "cell_type": "code",
   "execution_count": 12,
   "metadata": {},
   "outputs": [],
   "source": [
    "create_booking_procedures(cursor)"
   ]
  },
  {
   "cell_type": "code",
   "execution_count": 13,
   "metadata": {},
   "outputs": [
    {
     "data": {
      "text/plain": [
       "[[(1, datetime.datetime(2023, 11, 20, 0, 0), 5, 1),\n",
       "  (2, datetime.datetime(2023, 11, 21, 0, 0), 3, 2),\n",
       "  (3, datetime.datetime(2023, 11, 22, 0, 0), 1, 3),\n",
       "  (4, datetime.datetime(2023, 11, 23, 0, 0), 6, 4)]]"
      ]
     },
     "execution_count": 13,
     "metadata": {},
     "output_type": "execute_result"
    }
   ],
   "source": [
    "call_procedure(cursor, \"CheckBooking\")"
   ]
  },
  {
   "cell_type": "code",
   "execution_count": 16,
   "metadata": {},
   "outputs": [],
   "source": [
    "add_booking = call_procedure(\n",
    "    cursor, \"AddBooking\", (5, 2, 7, '2023-11-25', 12, 5))\n",
    "update_booking = call_procedure(cursor, \"UpdateBooking\", (5, '2023-11-27'))\n",
    "cancel_booking = call_procedure(cursor, \"CancelBooking\", (5,))"
   ]
  },
  {
   "cell_type": "code",
   "execution_count": 17,
   "metadata": {},
   "outputs": [
    {
     "name": "stdout",
     "output_type": "stream",
     "text": [
      "Adding Booking... \n",
      " [[(5, 2, 7, datetime.datetime(2023, 11, 25, 0, 0), 12, 5)]]\n",
      "Updating Booking... \n",
      " [[(5, 2, 7, datetime.datetime(2023, 11, 27, 0, 0), 12, 5)]]\n",
      "Canceling Booking... \n",
      " [[('Booking Id: 5 deleted successfully',)]]\n"
     ]
    }
   ],
   "source": [
    "print(\"Adding Booking... \\n\", add_booking)\n",
    "print(\"Updating Booking... \\n\", update_booking)\n",
    "print(\"Canceling Booking... \\n\", cancel_booking)"
   ]
  },
  {
   "cell_type": "markdown",
   "metadata": {},
   "source": [
    "##### Data Analysis Testing\n"
   ]
  },
  {
   "cell_type": "code",
   "execution_count": null,
   "metadata": {},
   "outputs": [],
   "source": [
    "import pandas as pd\n",
    "import numpy as np\n",
    "\n",
    "df = pd.read_excel(\"./data/lemon_dat.xlsx\")"
   ]
  },
  {
   "cell_type": "code",
   "execution_count": null,
   "metadata": {},
   "outputs": [],
   "source": [
    "df.shape"
   ]
  },
  {
   "cell_type": "code",
   "execution_count": null,
   "metadata": {},
   "outputs": [],
   "source": [
    "df.info()"
   ]
  },
  {
   "cell_type": "code",
   "execution_count": null,
   "metadata": {},
   "outputs": [],
   "source": [
    "df.rename(columns={\" Cost\": \"Cost\"}, inplace=True)\n",
    "df.head(3)"
   ]
  },
  {
   "cell_type": "markdown",
   "metadata": {},
   "source": [
    "##### Feature Engineering\n"
   ]
  },
  {
   "cell_type": "code",
   "execution_count": null,
   "metadata": {},
   "outputs": [],
   "source": [
    "df[[\"First Name\", \"Last Name\"]] = df[\"Customer Name\"].str.split(\n",
    "    \" \", expand=True, n=1)"
   ]
  },
  {
   "cell_type": "code",
   "execution_count": null,
   "metadata": {},
   "outputs": [],
   "source": [
    "df[\"Profit\"] = df[\"Sales\"] - df[\"Cost\"]"
   ]
  },
  {
   "cell_type": "code",
   "execution_count": null,
   "metadata": {},
   "outputs": [],
   "source": [
    "df[[\"Quantity\", \"Profit\"]]"
   ]
  },
  {
   "cell_type": "markdown",
   "metadata": {},
   "source": [
    "##### Building the Visualizations\n",
    "\n",
    "**Using Pandas for Data Cleaning**\n",
    "\n",
    "**Using Plotly for Data Visualizations**\n"
   ]
  },
  {
   "cell_type": "code",
   "execution_count": null,
   "metadata": {},
   "outputs": [],
   "source": [
    "import plotly.graph_objects as go\n",
    "import plotly.express as px\n",
    "config = {\n",
    "    'modeBarButtonsToRemove': ['zoom', 'zoomIn', 'zoomOut', 'select', 'lasso', \"autoScale2d\"],\n",
    "}"
   ]
  },
  {
   "cell_type": "markdown",
   "metadata": {},
   "source": [
    "**Task 1**\n"
   ]
  },
  {
   "cell_type": "code",
   "execution_count": null,
   "metadata": {},
   "outputs": [],
   "source": [
    "# Data Cleaning\n",
    "cust_sales = df.copy()\n",
    "cust_sales = cust_sales.loc[cust_sales[\"Sales\"] >= 70]\n",
    "cust_sales = cust_sales.groupby(\"Customer Name\", as_index=False).sum(\n",
    "    numeric_only=True)[[\"Customer Name\", \"Sales\"]].sort_values(\"Sales\", ascending=False)\n",
    "cust_sales.head(2)"
   ]
  },
  {
   "cell_type": "code",
   "execution_count": null,
   "metadata": {},
   "outputs": [],
   "source": [
    "fig = go.Figure()\n",
    "\n",
    "fig.add_trace(go.Bar(\n",
    "    x=cust_sales[\"Customer Name\"],\n",
    "    y=cust_sales[\"Sales\"],\n",
    "    hovertemplate=\"\"\"\n",
    "    <b>Customer:</b> %{x}<br>\n",
    "    <b>Total Sales:</b> %{y:$,.2f}\n",
    "    <extra></extra>\n",
    "    \"\"\",\n",
    "    texttemplate=\"%{y:$,.2f}\"\n",
    "))\n",
    "\n",
    "\n",
    "fig.update_xaxes(range=[-1, 10])\n",
    "fig.update_yaxes(fixedrange=True)\n",
    "\n",
    "fig.update_layout(\n",
    "    dragmode=\"pan\",\n",
    "    title='Customer Sales',\n",
    "    xaxis_title='Customer',\n",
    "    yaxis_title='Total Sales ($ USD)'\n",
    ")\n",
    "\n",
    "fig.show(config=config)"
   ]
  },
  {
   "cell_type": "markdown",
   "metadata": {},
   "source": [
    "**Task 2**\n"
   ]
  },
  {
   "cell_type": "code",
   "execution_count": null,
   "metadata": {},
   "outputs": [],
   "source": [
    "# Filtering the data\n",
    "profit_df = df.copy()\n",
    "profit_df = profit_df.groupby(\"Order Date\", as_index=False).sum(\n",
    "    numeric_only=True).sort_values(\"Order Date\")\n",
    "profit_df = profit_df.loc[profit_df[\"Order Date\"] < \"2023-01-01\"]"
   ]
  },
  {
   "cell_type": "code",
   "execution_count": null,
   "metadata": {},
   "outputs": [],
   "source": [
    "profit_df"
   ]
  },
  {
   "cell_type": "code",
   "execution_count": null,
   "metadata": {},
   "outputs": [],
   "source": [
    "fig = go.Figure()\n",
    "\n",
    "fig.add_trace(go.Scatter(\n",
    "    x=profit_df[\"Order Date\"],\n",
    "    y=profit_df[\"Profit\"],\n",
    "    mode=\"lines\",\n",
    "    hovertemplate=\"\"\"\n",
    "    <b>Profit:</b> %{y:$,.2f}<br>\n",
    "    <b>Date:</b> %{x}\n",
    "    <extra></extra>\n",
    "    \"\"\"\n",
    "))\n",
    "\n",
    "fig.update_xaxes(\n",
    "    rangeslider_visible=True,\n",
    "    rangeselector_buttons=list([\n",
    "        dict(count=1, label=\"1m\", step=\"month\", stepmode=\"backward\"),\n",
    "        dict(count=3, label=\"3m\", step=\"month\", stepmode=\"backward\"),\n",
    "        dict(count=6, label=\"6m\", step=\"month\", stepmode=\"backward\"),\n",
    "        dict(count=1, label=\"1y\", step=\"year\", stepmode=\"backward\"),\n",
    "        dict(count=2, label=\"2yr\", step=\"year\", stepmode=\"backward\"),\n",
    "        dict(count=3, label=\"3yr\", step=\"year\", stepmode=\"backward\"),\n",
    "    ]),\n",
    ")\n",
    "\n",
    "fig.update_layout(\n",
    "    dragmode=\"pan\",\n",
    "    title='Profit Chart',\n",
    "    xaxis_title='Order Date',\n",
    "    yaxis_title='Total Profit ($ USD)',\n",
    "    yaxis_tickformat='$,.2f'\n",
    ")\n",
    "\n",
    "fig.show(config=config)"
   ]
  },
  {
   "cell_type": "markdown",
   "metadata": {},
   "source": [
    "**Task 3**\n"
   ]
  },
  {
   "cell_type": "code",
   "execution_count": null,
   "metadata": {},
   "outputs": [],
   "source": [
    "bubble_df = df.copy()\n",
    "bubble_df = bubble_df.groupby(\n",
    "    \"Customer Name\", as_index=False).sum(numeric_only=True)"
   ]
  },
  {
   "cell_type": "code",
   "execution_count": null,
   "metadata": {},
   "outputs": [],
   "source": [
    "bubble_df"
   ]
  },
  {
   "cell_type": "code",
   "execution_count": null,
   "metadata": {},
   "outputs": [],
   "source": [
    "fig = px.scatter(\n",
    "    bubble_df,\n",
    "    x=\"Profit\",\n",
    "    y=\"Sales\",\n",
    "    color=\"Customer Name\",\n",
    "    size=\"Quantity\",\n",
    "    hover_data={\n",
    "        \"Customer Name\": False,\n",
    "        \"Profit\": \":$,.2f\",\n",
    "        \"Sales\": \":$,.2f\",\n",
    "    },\n",
    "    hover_name=\"Customer Name\"\n",
    ")\n",
    "\n",
    "fig.update_layout(\n",
    "    showlegend=False,\n",
    "    title='Sales Buble Chart (w/ size=Quantity)',\n",
    "    yaxis_title='Total Sales ($ USD)',\n",
    "    yaxis_tickformat=\"$,.2f\",\n",
    "    xaxis_title='Total Profit ($ USD)',\n",
    "    xaxis_tickformat=\"$,.2f\"\n",
    ")\n",
    "\n",
    "fig.show(config={\n",
    "    'modeBarButtonsToRemove': ['zoomIn', 'zoomOut', 'select', 'lasso', \"autoScale2d\"],\n",
    "})"
   ]
  },
  {
   "cell_type": "markdown",
   "metadata": {},
   "source": [
    "**Task 4**\n"
   ]
  },
  {
   "cell_type": "code",
   "execution_count": null,
   "metadata": {},
   "outputs": [],
   "source": [
    "cuisine_df = df.copy()\n",
    "cuisine_df[\"Year\"] = cuisine_df[\"Order Date\"].dt.year\n",
    "cuisine_df = cuisine_df.loc[cuisine_df[\"Year\"].between(\n",
    "    2020, 2022, inclusive=\"both\")]\n",
    "cuisine_df = cuisine_df.groupby([\"Cuisine Name\", \"Year\"], as_index=False).sum(\n",
    "    numeric_only=True).sort_values([\"Year\", \"Sales\"], ascending=False)"
   ]
  },
  {
   "cell_type": "code",
   "execution_count": null,
   "metadata": {},
   "outputs": [],
   "source": [
    "fig = px.histogram(\n",
    "    cuisine_df,\n",
    "    x=\"Year\",\n",
    "    y=\"Profit\",\n",
    "    color=\"Cuisine Name\",\n",
    "    barmode='group',\n",
    "    hover_data={\n",
    "        \"Cuisine Name\": False,\n",
    "        \"Year\": True,\n",
    "        \"Profit\": \":$,.2f\"\n",
    "    },\n",
    "    hover_name=\"Cuisine Name\"\n",
    ")\n",
    "\n",
    "fig.update_traces(texttemplate=\"%{y:$,.2f}\")\n",
    "\n",
    "fig.update_layout(\n",
    "    title='Yearly Profit by Cuisine',\n",
    "    yaxis_title='Total Profit ($ USD)',\n",
    "    yaxis_tickformat=\"$,.2f\",\n",
    "    xaxis_title='Year'\n",
    ")\n",
    "\n",
    "fig.show(config={\n",
    "    'modeBarButtonsToRemove': ['zoomIn', 'zoomOut', 'select', 'lasso', \"autoScale2d\"],\n",
    "})"
   ]
  },
  {
   "cell_type": "markdown",
   "metadata": {},
   "source": [
    "**Task 5**\n"
   ]
  },
  {
   "cell_type": "code",
   "execution_count": null,
   "metadata": {},
   "outputs": [],
   "source": [
    "df.columns"
   ]
  },
  {
   "cell_type": "code",
   "execution_count": null,
   "metadata": {},
   "outputs": [],
   "source": [
    "test = df.groupby([\"Customer Name\", \"Country\", \"City\", \"Order Date\",\n",
    "                  \"Order ID\"], as_index=False).sum(numeric_only=True)\n",
    "test[test[\"Customer Name\"] == \"Doug Logg\"]"
   ]
  }
 ],
 "metadata": {
  "kernelspec": {
   "display_name": "db-eng-capstone",
   "language": "python",
   "name": "python3"
  },
  "language_info": {
   "codemirror_mode": {
    "name": "ipython",
    "version": 3
   },
   "file_extension": ".py",
   "mimetype": "text/x-python",
   "name": "python",
   "nbconvert_exporter": "python",
   "pygments_lexer": "ipython3",
   "version": "3.10.6"
  }
 },
 "nbformat": 4,
 "nbformat_minor": 2
}
