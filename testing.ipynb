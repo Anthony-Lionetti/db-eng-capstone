{
 "cells": [
  {
   "cell_type": "code",
   "execution_count": 2,
   "metadata": {},
   "outputs": [],
   "source": [
    "import mysql.connector\n",
    "from data.execution import init_database, insert_data, run_views, run_proceedures, run_prepared_statement, call_procedure"
   ]
  },
  {
   "cell_type": "markdown",
   "metadata": {},
   "source": [
    "##### The below will ask for two inputs Database User and Password for local host respectively\n"
   ]
  },
  {
   "cell_type": "code",
   "execution_count": 3,
   "metadata": {},
   "outputs": [],
   "source": [
    "cnx, cursor, prep_cursor = init_database()"
   ]
  },
  {
   "cell_type": "code",
   "execution_count": 4,
   "metadata": {},
   "outputs": [
    {
     "name": "stdout",
     "output_type": "stream",
     "text": [
      "Now using little_lemon_capstone\n",
      "Check if Data is Already Added\n"
     ]
    }
   ],
   "source": [
    "insert_data(cnx, cursor)"
   ]
  },
  {
   "cell_type": "markdown",
   "metadata": {},
   "source": [
    "**Creating and Calling the Virtual Tables**\n"
   ]
  },
  {
   "cell_type": "code",
   "execution_count": 5,
   "metadata": {},
   "outputs": [],
   "source": [
    "order_views, over90orders, popular_items = run_views(cursor)"
   ]
  },
  {
   "cell_type": "code",
   "execution_count": 6,
   "metadata": {},
   "outputs": [
    {
     "name": "stdout",
     "output_type": "stream",
     "text": [
      "Order Views Response\n",
      "orderId: 1 | Order Quantity: 12 | Order Total: $86.41\n",
      "orderId: 2 | Order Quantity: 11 | Order Total: $94.42\n",
      "orderId: 3 | Order Quantity: 8 | Order Total: $68.45\n",
      "orderId: 4 | Order Quantity: 7 | Order Total: $96.93\n",
      "orderId: 5 | Order Quantity: 7 | Order Total: $34.95\n",
      "orderId: 6 | Order Quantity: 5 | Order Total: $37.46\n",
      "orderId: 7 | Order Quantity: 7 | Order Total: $39.46\n",
      "orderId: 8 | Order Quantity: 14 | Order Total: $120.94\n"
     ]
    }
   ],
   "source": [
    "print(\"Order Views Response\")\n",
    "for data in order_views:\n",
    "    print(\n",
    "        f\"orderId: {data[0]} | Order Quantity: {data[1]} | Order Total: ${data[2]}\")"
   ]
  },
  {
   "cell_type": "code",
   "execution_count": null,
   "metadata": {},
   "outputs": [],
   "source": [
    "print(\"Orders Over 90 Dollars\")\n",
    "for data in over90orders:\n",
    "    print(\n",
    "        f\"Customer: {data[1]} | Order Total: ${data[4]} | Order Type: {data[3]}\")"
   ]
  },
  {
   "cell_type": "code",
   "execution_count": null,
   "metadata": {},
   "outputs": [],
   "source": [
    "print(\"Popular Menu Items\")\n",
    "for data in popular_items:\n",
    "    print(f'Item: {data[0]}')"
   ]
  },
  {
   "cell_type": "markdown",
   "metadata": {},
   "source": [
    "**Creating and Calling Procedures**\n"
   ]
  },
  {
   "cell_type": "code",
   "execution_count": 7,
   "metadata": {},
   "outputs": [],
   "source": [
    "run_proceedures(cursor)"
   ]
  },
  {
   "cell_type": "code",
   "execution_count": 8,
   "metadata": {},
   "outputs": [
    {
     "name": "stdout",
     "output_type": "stream",
     "text": [
      "The Maximum Order Size is 14\n"
     ]
    }
   ],
   "source": [
    "query = call_procedure(cursor, 'GetMaxQuantity')\n",
    "print(f\"The Maximum Order Size is {query[0][0][0]}\")"
   ]
  },
  {
   "cell_type": "code",
   "execution_count": 10,
   "metadata": {},
   "outputs": [
    {
     "data": {
      "text/plain": [
       "[]"
      ]
     },
     "execution_count": 10,
     "metadata": {},
     "output_type": "execute_result"
    }
   ],
   "source": [
    "query = call_procedure(cursor, 'CancelOrder', (9, 'message'))\n",
    "query"
   ]
  },
  {
   "cell_type": "code",
   "execution_count": 14,
   "metadata": {},
   "outputs": [
    {
     "name": "stdout",
     "output_type": "stream",
     "text": [
      "Customer #: 4 | Quantity: 4 | Total: 120.94\n",
      "Customer #: 4 | Quantity: 8 | Total: 120.94\n"
     ]
    }
   ],
   "source": [
    "response = run_prepared_statement(prep_cursor, (4, ))\n",
    "for order in response:\n",
    "    print(f\"Customer #: {order[0]} | Quantity: {order[1]} | Total: {data[2]}\")"
   ]
  },
  {
   "cell_type": "code",
   "execution_count": null,
   "metadata": {},
   "outputs": [],
   "source": [
    "import pandas as pd\n",
    "\n",
    "lemon_df = pd.read_excel(\"lemon_dat.xlsx\")"
   ]
  },
  {
   "cell_type": "code",
   "execution_count": null,
   "metadata": {},
   "outputs": [],
   "source": [
    "lemon_df"
   ]
  },
  {
   "cell_type": "code",
   "execution_count": null,
   "metadata": {},
   "outputs": [],
   "source": []
  }
 ],
 "metadata": {
  "kernelspec": {
   "display_name": "db-eng-capstone",
   "language": "python",
   "name": "python3"
  },
  "language_info": {
   "codemirror_mode": {
    "name": "ipython",
    "version": 3
   },
   "file_extension": ".py",
   "mimetype": "text/x-python",
   "name": "python",
   "nbconvert_exporter": "python",
   "pygments_lexer": "ipython3",
   "version": "3.10.6"
  }
 },
 "nbformat": 4,
 "nbformat_minor": 2
}
